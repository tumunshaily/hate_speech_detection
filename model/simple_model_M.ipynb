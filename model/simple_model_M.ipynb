{
 "cells": [
  {
   "cell_type": "code",
   "execution_count": 1,
   "metadata": {
    "colab": {},
    "colab_type": "code",
    "executionInfo": {
     "elapsed": 2364,
     "status": "ok",
     "timestamp": 1600594505986,
     "user": {
      "displayName": "sunny",
      "photoUrl": "https://lh3.googleusercontent.com/a-/AOh14GjDGvhwrgQHzGTzm2Q9zSscP5-STzYjbgq990qz=s64",
      "userId": "16372532008308965642"
     },
     "user_tz": -330
    },
    "id": "HD-THFK78ihg"
   },
   "outputs": [],
   "source": [
    "import pandas as pd\n",
    "import numpy as np\n",
    "import nltk"
   ]
  },
  {
   "cell_type": "code",
   "execution_count": 2,
   "metadata": {
    "colab": {},
    "colab_type": "code",
    "executionInfo": {
     "elapsed": 34406,
     "status": "ok",
     "timestamp": 1600594538044,
     "user": {
      "displayName": "sunny",
      "photoUrl": "https://lh3.googleusercontent.com/a-/AOh14GjDGvhwrgQHzGTzm2Q9zSscP5-STzYjbgq990qz=s64",
      "userId": "16372532008308965642"
     },
     "user_tz": -330
    },
    "id": "Y7jAX8mqHJcH"
   },
   "outputs": [],
   "source": [
    "!pip install -U -q PyDrive\n",
    "from pydrive.auth import GoogleAuth\n",
    "from pydrive.drive import GoogleDrive\n",
    "from google.colab import auth\n",
    "from oauth2client.client import GoogleCredentials\n",
    "# Authenticate and create the PyDrive client.\n",
    "auth.authenticate_user()\n",
    "gauth = GoogleAuth()\n",
    "gauth.credentials = GoogleCredentials.get_application_default()\n",
    "drive = GoogleDrive(gauth)"
   ]
  },
  {
   "cell_type": "code",
   "execution_count": 11,
   "metadata": {
    "colab": {
     "base_uri": "https://localhost:8080/",
     "height": 34
    },
    "colab_type": "code",
    "executionInfo": {
     "elapsed": 1609,
     "status": "ok",
     "timestamp": 1600594548810,
     "user": {
      "displayName": "sunny",
      "photoUrl": "https://lh3.googleusercontent.com/a-/AOh14GjDGvhwrgQHzGTzm2Q9zSscP5-STzYjbgq990qz=s64",
      "userId": "16372532008308965642"
     },
     "user_tz": -330
    },
    "id": "unQynoz7HKzx",
    "outputId": "ed3d3079-ae17-48de-8434-bfab6fe8139a"
   },
   "outputs": [
    {
     "name": "stdout",
     "output_type": "stream",
     "text": [
      "1iR7pNIcSgP1YuAkr9kCS357h46TflkJ8\n"
     ]
    }
   ],
   "source": [
    "\n",
    "id ='1iR7pNIcSgP1YuAkr9kCS357h46TflkJ8'\n",
    "print (id)"
   ]
  },
  {
   "cell_type": "code",
   "execution_count": 12,
   "metadata": {
    "colab": {},
    "colab_type": "code",
    "executionInfo": {
     "elapsed": 1608,
     "status": "ok",
     "timestamp": 1600594549340,
     "user": {
      "displayName": "sunny",
      "photoUrl": "https://lh3.googleusercontent.com/a-/AOh14GjDGvhwrgQHzGTzm2Q9zSscP5-STzYjbgq990qz=s64",
      "userId": "16372532008308965642"
     },
     "user_tz": -330
    },
    "id": "oRQfcGmHHSSi"
   },
   "outputs": [],
   "source": [
    "downloaded = drive.CreateFile({'id':id}) \n",
    "downloaded.GetContentFile('malayalam_dev.tsv')  \n"
   ]
  },
  {
   "cell_type": "code",
   "execution_count": 13,
   "metadata": {
    "colab": {
     "base_uri": "https://localhost:8080/",
     "height": 197
    },
    "colab_type": "code",
    "executionInfo": {
     "elapsed": 1075,
     "status": "ok",
     "timestamp": 1600594549342,
     "user": {
      "displayName": "sunny",
      "photoUrl": "https://lh3.googleusercontent.com/a-/AOh14GjDGvhwrgQHzGTzm2Q9zSscP5-STzYjbgq990qz=s64",
      "userId": "16372532008308965642"
     },
     "user_tz": -330
    },
    "id": "jwexWKnhHT6D",
    "outputId": "00386650-4c4c-4045-f7dc-b7cd905acb27"
   },
   "outputs": [
    {
     "data": {
      "text/html": [
       "<div>\n",
       "<style scoped>\n",
       "    .dataframe tbody tr th:only-of-type {\n",
       "        vertical-align: middle;\n",
       "    }\n",
       "\n",
       "    .dataframe tbody tr th {\n",
       "        vertical-align: top;\n",
       "    }\n",
       "\n",
       "    .dataframe thead th {\n",
       "        text-align: right;\n",
       "    }\n",
       "</style>\n",
       "<table border=\"1\" class=\"dataframe\">\n",
       "  <thead>\n",
       "    <tr style=\"text-align: right;\">\n",
       "      <th></th>\n",
       "      <th>text</th>\n",
       "      <th>category</th>\n",
       "    </tr>\n",
       "  </thead>\n",
       "  <tbody>\n",
       "    <tr>\n",
       "      <th>0</th>\n",
       "      <td>speechless 🤐.   ikkaaa</td>\n",
       "      <td>not-malayalam</td>\n",
       "    </tr>\n",
       "    <tr>\n",
       "      <th>1</th>\n",
       "      <td>Raja sollunathu mattuthaam seyyvaa seyyunnath...</td>\n",
       "      <td>not-malayalam</td>\n",
       "    </tr>\n",
       "    <tr>\n",
       "      <th>2</th>\n",
       "      <td>Im Prithiviraj fan from tamilnadu... Love it</td>\n",
       "      <td>not-malayalam</td>\n",
       "    </tr>\n",
       "    <tr>\n",
       "      <th>3</th>\n",
       "      <td>mohanlal sir - look ..... kiddo...</td>\n",
       "      <td>Positive</td>\n",
       "    </tr>\n",
       "    <tr>\n",
       "      <th>4</th>\n",
       "      <td>Kandathil vech mungiya pdam  Rating 1.1/5</td>\n",
       "      <td>Negative</td>\n",
       "    </tr>\n",
       "  </tbody>\n",
       "</table>\n",
       "</div>"
      ],
      "text/plain": [
       "                                                text        category\n",
       "0                             speechless 🤐.   ikkaaa  not-malayalam \n",
       "1   Raja sollunathu mattuthaam seyyvaa seyyunnath...  not-malayalam \n",
       "2       Im Prithiviraj fan from tamilnadu... Love it  not-malayalam \n",
       "3                 mohanlal sir - look ..... kiddo...       Positive \n",
       "4          Kandathil vech mungiya pdam  Rating 1.1/5       Negative "
      ]
     },
     "execution_count": 13,
     "metadata": {
      "tags": []
     },
     "output_type": "execute_result"
    }
   ],
   "source": [
    "malayalam_test=pd.read_csv('malayalam_dev.tsv',sep='\\t')\n",
    "malayalam_test.head()"
   ]
  },
  {
   "cell_type": "code",
   "execution_count": 14,
   "metadata": {
    "colab": {
     "base_uri": "https://localhost:8080/",
     "height": 34
    },
    "colab_type": "code",
    "executionInfo": {
     "elapsed": 1185,
     "status": "ok",
     "timestamp": 1600594549800,
     "user": {
      "displayName": "sunny",
      "photoUrl": "https://lh3.googleusercontent.com/a-/AOh14GjDGvhwrgQHzGTzm2Q9zSscP5-STzYjbgq990qz=s64",
      "userId": "16372532008308965642"
     },
     "user_tz": -330
    },
    "id": "pXAlHnPKHW6b",
    "outputId": "e5a05718-7999-4d96-872e-39b967a7b187"
   },
   "outputs": [
    {
     "name": "stdout",
     "output_type": "stream",
     "text": [
      "10qk7xVODML46fYRIACsmN5VgRVQbPK8w\n"
     ]
    }
   ],
   "source": [
    "id = '10qk7xVODML46fYRIACsmN5VgRVQbPK8w'\n",
    "print (id)"
   ]
  },
  {
   "cell_type": "code",
   "execution_count": 15,
   "metadata": {
    "colab": {},
    "colab_type": "code",
    "executionInfo": {
     "elapsed": 2208,
     "status": "ok",
     "timestamp": 1600594551360,
     "user": {
      "displayName": "sunny",
      "photoUrl": "https://lh3.googleusercontent.com/a-/AOh14GjDGvhwrgQHzGTzm2Q9zSscP5-STzYjbgq990qz=s64",
      "userId": "16372532008308965642"
     },
     "user_tz": -330
    },
    "id": "uhFUfcOvHeDB"
   },
   "outputs": [],
   "source": [
    "downloaded = drive.CreateFile({'id':id}) \n",
    "downloaded.GetContentFile('malayalam_train.tsv')  "
   ]
  },
  {
   "cell_type": "code",
   "execution_count": 16,
   "metadata": {
    "colab": {
     "base_uri": "https://localhost:8080/",
     "height": 197
    },
    "colab_type": "code",
    "executionInfo": {
     "elapsed": 1759,
     "status": "ok",
     "timestamp": 1600594551364,
     "user": {
      "displayName": "sunny",
      "photoUrl": "https://lh3.googleusercontent.com/a-/AOh14GjDGvhwrgQHzGTzm2Q9zSscP5-STzYjbgq990qz=s64",
      "userId": "16372532008308965642"
     },
     "user_tz": -330
    },
    "id": "ChzQ3w6-Hhb6",
    "outputId": "ccef5934-b9d0-467e-cd42-99c90c624747"
   },
   "outputs": [
    {
     "data": {
      "text/html": [
       "<div>\n",
       "<style scoped>\n",
       "    .dataframe tbody tr th:only-of-type {\n",
       "        vertical-align: middle;\n",
       "    }\n",
       "\n",
       "    .dataframe tbody tr th {\n",
       "        vertical-align: top;\n",
       "    }\n",
       "\n",
       "    .dataframe thead th {\n",
       "        text-align: right;\n",
       "    }\n",
       "</style>\n",
       "<table border=\"1\" class=\"dataframe\">\n",
       "  <thead>\n",
       "    <tr style=\"text-align: right;\">\n",
       "      <th></th>\n",
       "      <th>text</th>\n",
       "      <th>category</th>\n",
       "    </tr>\n",
       "  </thead>\n",
       "  <tbody>\n",
       "    <tr>\n",
       "      <th>0</th>\n",
       "      <td>hoo mammokka police vesham aaha anthas</td>\n",
       "      <td>Positive</td>\n",
       "    </tr>\n",
       "    <tr>\n",
       "      <th>1</th>\n",
       "      <td>Oru rekshayum illa...kidilam kannu nananjupoyi</td>\n",
       "      <td>Positive</td>\n",
       "    </tr>\n",
       "    <tr>\n",
       "      <th>2</th>\n",
       "      <td>Ikka     waiting.........</td>\n",
       "      <td>Positive</td>\n",
       "    </tr>\n",
       "    <tr>\n",
       "      <th>3</th>\n",
       "      <td>Raju Ettante Oro Shorttum Ijathi ppwli</td>\n",
       "      <td>Positive</td>\n",
       "    </tr>\n",
       "    <tr>\n",
       "      <th>4</th>\n",
       "      <td>Ettan fansil netti poya aarenkilum undo?    #...</td>\n",
       "      <td>Positive</td>\n",
       "    </tr>\n",
       "  </tbody>\n",
       "</table>\n",
       "</div>"
      ],
      "text/plain": [
       "                                                text   category\n",
       "0             hoo mammokka police vesham aaha anthas  Positive \n",
       "1     Oru rekshayum illa...kidilam kannu nananjupoyi  Positive \n",
       "2                          Ikka     waiting.........  Positive \n",
       "3             Raju Ettante Oro Shorttum Ijathi ppwli  Positive \n",
       "4   Ettan fansil netti poya aarenkilum undo?    #...  Positive "
      ]
     },
     "execution_count": 16,
     "metadata": {
      "tags": []
     },
     "output_type": "execute_result"
    }
   ],
   "source": [
    "malayalam_train=pd.read_csv('malayalam_train.tsv',sep='\\t')\n",
    "malayalam_train.head()"
   ]
  },
  {
   "cell_type": "code",
   "execution_count": 17,
   "metadata": {
    "colab": {},
    "colab_type": "code",
    "executionInfo": {
     "elapsed": 1185,
     "status": "ok",
     "timestamp": 1600594551367,
     "user": {
      "displayName": "sunny",
      "photoUrl": "https://lh3.googleusercontent.com/a-/AOh14GjDGvhwrgQHzGTzm2Q9zSscP5-STzYjbgq990qz=s64",
      "userId": "16372532008308965642"
     },
     "user_tz": -330
    },
    "id": "p4heMWvcnFBF"
   },
   "outputs": [],
   "source": [
    "import seaborn as sns"
   ]
  },
  {
   "cell_type": "code",
   "execution_count": 18,
   "metadata": {
    "colab": {
     "base_uri": "https://localhost:8080/",
     "height": 406
    },
    "colab_type": "code",
    "executionInfo": {
     "elapsed": 1559,
     "status": "ok",
     "timestamp": 1600594552332,
     "user": {
      "displayName": "sunny",
      "photoUrl": "https://lh3.googleusercontent.com/a-/AOh14GjDGvhwrgQHzGTzm2Q9zSscP5-STzYjbgq990qz=s64",
      "userId": "16372532008308965642"
     },
     "user_tz": -330
    },
    "id": "dcpIrgoc8rtD",
    "outputId": "3d7a89a4-9ad0-42cd-a76f-575bfc0dfc2c"
   },
   "outputs": [
    {
     "data": {
      "text/plain": [
       "[Text(0, 0, 'Positive '),\n",
       " Text(0, 0, 'not-malayalam '),\n",
       " Text(0, 0, 'unknown_state '),\n",
       " Text(0, 0, 'Mixed_feelings '),\n",
       " Text(0, 0, 'Negative ')]"
      ]
     },
     "execution_count": 18,
     "metadata": {
      "tags": []
     },
     "output_type": "execute_result"
    },
    {
     "data": {
      "image/png": "[encoded data removed]",
      "text/plain": [
       "<Figure size 432x288 with 1 Axes>"
      ]
     },
     "metadata": {
      "needs_background": "light",
      "tags": []
     },
     "output_type": "display_data"
    }
   ],
   "source": [
    "chart=sns.countplot(malayalam_train.category)\n",
    "chart.set_xticklabels(chart.get_xticklabels(),rotation=30)"
   ]
  },
  {
   "cell_type": "code",
   "execution_count": 19,
   "metadata": {
    "colab": {
     "base_uri": "https://localhost:8080/",
     "height": 406
    },
    "colab_type": "code",
    "executionInfo": {
     "elapsed": 2083,
     "status": "ok",
     "timestamp": 1600594553309,
     "user": {
      "displayName": "sunny",
      "photoUrl": "https://lh3.googleusercontent.com/a-/AOh14GjDGvhwrgQHzGTzm2Q9zSscP5-STzYjbgq990qz=s64",
      "userId": "16372532008308965642"
     },
     "user_tz": -330
    },
    "id": "CQ8WCnFhl4Up",
    "outputId": "6860dec9-a4b9-42ab-8981-c2a1e81d0245"
   },
   "outputs": [
    {
     "data": {
      "text/plain": [
       "[Text(0, 0, 'not-malayalam '),\n",
       " Text(0, 0, 'Positive '),\n",
       " Text(0, 0, 'Negative '),\n",
       " Text(0, 0, 'unknown_state '),\n",
       " Text(0, 0, 'Mixed_feelings ')]"
      ]
     },
     "execution_count": 19,
     "metadata": {
      "tags": []
     },
     "output_type": "execute_result"
    },
    {
     "data": {
      "image/png": "[encoded data removed]",
      "text/plain": [
       "<Figure size 432x288 with 1 Axes>"
      ]
     },
     "metadata": {
      "needs_background": "light",
      "tags": []
     },
     "output_type": "display_data"
    }
   ],
   "source": [
    "chart=sns.countplot(malayalam_test.category)\n",
    "chart.set_xticklabels(chart.get_xticklabels(),rotation=30)"
   ]
  },
  {
   "cell_type": "code",
   "execution_count": 20,
   "metadata": {
    "colab": {},
    "colab_type": "code",
    "executionInfo": {
     "elapsed": 1695,
     "status": "ok",
     "timestamp": 1600594553312,
     "user": {
      "displayName": "sunny",
      "photoUrl": "https://lh3.googleusercontent.com/a-/AOh14GjDGvhwrgQHzGTzm2Q9zSscP5-STzYjbgq990qz=s64",
      "userId": "16372532008308965642"
     },
     "user_tz": -330
    },
    "id": "C04kZu1eHu5W"
   },
   "outputs": [],
   "source": [
    "import re\n",
    "import string\n",
    "import nltk\n",
    "from bs4 import BeautifulSoup "
   ]
  },
  {
   "cell_type": "code",
   "execution_count": 21,
   "metadata": {
    "colab": {},
    "colab_type": "code",
    "executionInfo": {
     "elapsed": 1108,
     "status": "ok",
     "timestamp": 1600594553316,
     "user": {
      "displayName": "sunny",
      "photoUrl": "https://lh3.googleusercontent.com/a-/AOh14GjDGvhwrgQHzGTzm2Q9zSscP5-STzYjbgq990qz=s64",
      "userId": "16372532008308965642"
     },
     "user_tz": -330
    },
    "id": "OtafhQWKH2H7"
   },
   "outputs": [],
   "source": [
    "def remove_emoji(string):\n",
    "    emoji_pattern = re.compile(\"[\"\n",
    "                               u\"\\U0001F600-\\U0001F64F\"  # emoticons\n",
    "                               u\"\\U0001F300-\\U0001F5FF\"  # symbols & pictographs\n",
    "                               u\"\\U0001F680-\\U0001F6FF\"  # transport & map symbols\n",
    "                               u\"\\U0001F1E0-\\U0001F1FF\"  # flags (iOS)\n",
    "                               u\"\\U00002500-\\U00002BEF\"  # chinese char\n",
    "                               u\"\\U00002702-\\U000027B0\"\n",
    "                               u\"\\U00002702-\\U000027B0\"\n",
    "                               u\"\\U000024C2-\\U0001F251\"\n",
    "                               u\"\\U0001f926-\\U0001f937\"\n",
    "                               u\"\\U00010000-\\U0010ffff\"\n",
    "                               u\"\\u2640-\\u2642\"\n",
    "                               u\"\\u2600-\\u2B55\"\n",
    "                               u\"\\u200d\"\n",
    "                               u\"\\u23cf\"\n",
    "                               u\"\\u23e9\"\n",
    "                               u\"\\u231a\"\n",
    "                               u\"\\ufe0f\"  # dingbats\n",
    "                               u\"\\u3030\"\n",
    "                               \"]+\", flags=re.UNICODE)\n",
    "    return emoji_pattern.sub(r'', string)"
   ]
  },
  {
   "cell_type": "code",
   "execution_count": 22,
   "metadata": {
    "colab": {
     "base_uri": "https://localhost:8080/",
     "height": 34
    },
    "colab_type": "code",
    "executionInfo": {
     "elapsed": 1171,
     "status": "ok",
     "timestamp": 1600594553811,
     "user": {
      "displayName": "sunny",
      "photoUrl": "https://lh3.googleusercontent.com/a-/AOh14GjDGvhwrgQHzGTzm2Q9zSscP5-STzYjbgq990qz=s64",
      "userId": "16372532008308965642"
     },
     "user_tz": -330
    },
    "id": "32jdcpolH6bF",
    "outputId": "c9c6ad56-de93-4a18-92a4-3548f760116b"
   },
   "outputs": [
    {
     "name": "stdout",
     "output_type": "stream",
     "text": [
      "Waiting to see mammukaas undaa \n"
     ]
    }
   ],
   "source": [
    "tex='Waiting to see mammukaas undaa 🤣'\n",
    "print(remove_emoji(tex))"
   ]
  },
  {
   "cell_type": "code",
   "execution_count": 23,
   "metadata": {
    "colab": {},
    "colab_type": "code",
    "executionInfo": {
     "elapsed": 1266,
     "status": "ok",
     "timestamp": 1600594554451,
     "user": {
      "displayName": "sunny",
      "photoUrl": "https://lh3.googleusercontent.com/a-/AOh14GjDGvhwrgQHzGTzm2Q9zSscP5-STzYjbgq990qz=s64",
      "userId": "16372532008308965642"
     },
     "user_tz": -330
    },
    "id": "QrDxnXuKH8pK"
   },
   "outputs": [],
   "source": [
    "def strip_html(text):\n",
    "  soup=BeautifulSoup(text, \"html.parser\")\n",
    "  return soup.get_text()\n",
    "def remove_between_square_brackets(text):\n",
    "  return re.sub('\\[[^]]*\\]', '', text)\n",
    "def remove_symbols(text):\n",
    "  return re.sub('[/w]','',text)\n",
    "def remove_mentio(text):\n",
    "  return re.sub(r\"(?:\\@|https?\\://)\\S+\", \"\", text)"
   ]
  },
  {
   "cell_type": "code",
   "execution_count": 24,
   "metadata": {
    "colab": {},
    "colab_type": "code",
    "executionInfo": {
     "elapsed": 1803,
     "status": "ok",
     "timestamp": 1600594555411,
     "user": {
      "displayName": "sunny",
      "photoUrl": "https://lh3.googleusercontent.com/a-/AOh14GjDGvhwrgQHzGTzm2Q9zSscP5-STzYjbgq990qz=s64",
      "userId": "16372532008308965642"
     },
     "user_tz": -330
    },
    "id": "tdtfMycrH-sz"
   },
   "outputs": [],
   "source": [
    "def clean(text):\n",
    "  text=strip_html(text)\n",
    "  text=remove_mentio(text)\n",
    "  text=remove_between_square_brackets(text)\n",
    "  text=remove_emoji(text)\n",
    "  text=remove_symbols(text)\n",
    "  return text"
   ]
  },
  {
   "cell_type": "code",
   "execution_count": 25,
   "metadata": {
    "colab": {},
    "colab_type": "code",
    "executionInfo": {
     "elapsed": 1784,
     "status": "ok",
     "timestamp": 1600594555951,
     "user": {
      "displayName": "sunny",
      "photoUrl": "https://lh3.googleusercontent.com/a-/AOh14GjDGvhwrgQHzGTzm2Q9zSscP5-STzYjbgq990qz=s64",
      "userId": "16372532008308965642"
     },
     "user_tz": -330
    },
    "id": "q4oiwgJIIAb2"
   },
   "outputs": [],
   "source": [
    "malayalam_train['text']=malayalam_train['text'].apply(clean)\n",
    "malayalam_test['text']=malayalam_test['text'].apply(clean)"
   ]
  },
  {
   "cell_type": "code",
   "execution_count": 26,
   "metadata": {
    "colab": {},
    "colab_type": "code",
    "executionInfo": {
     "elapsed": 2298,
     "status": "ok",
     "timestamp": 1600594556870,
     "user": {
      "displayName": "sunny",
      "photoUrl": "https://lh3.googleusercontent.com/a-/AOh14GjDGvhwrgQHzGTzm2Q9zSscP5-STzYjbgq990qz=s64",
      "userId": "16372532008308965642"
     },
     "user_tz": -330
    },
    "id": "RJXgpXDNJCk1"
   },
   "outputs": [],
   "source": [
    "x_train=malayalam_train['text']\n",
    "y_train=malayalam_train['category']"
   ]
  },
  {
   "cell_type": "code",
   "execution_count": 27,
   "metadata": {
    "colab": {},
    "colab_type": "code",
    "executionInfo": {
     "elapsed": 1678,
     "status": "ok",
     "timestamp": 1600594556872,
     "user": {
      "displayName": "sunny",
      "photoUrl": "https://lh3.googleusercontent.com/a-/AOh14GjDGvhwrgQHzGTzm2Q9zSscP5-STzYjbgq990qz=s64",
      "userId": "16372532008308965642"
     },
     "user_tz": -330
    },
    "id": "BGBcLDlxLE8A"
   },
   "outputs": [],
   "source": [
    "x_test=malayalam_test['text']\n",
    "y_test=malayalam_test['category']"
   ]
  },
  {
   "cell_type": "code",
   "execution_count": 28,
   "metadata": {
    "colab": {},
    "colab_type": "code",
    "executionInfo": {
     "elapsed": 1677,
     "status": "ok",
     "timestamp": 1600594557314,
     "user": {
      "displayName": "sunny",
      "photoUrl": "https://lh3.googleusercontent.com/a-/AOh14GjDGvhwrgQHzGTzm2Q9zSscP5-STzYjbgq990qz=s64",
      "userId": "16372532008308965642"
     },
     "user_tz": -330
    },
    "id": "YYu5NkvjIXx_"
   },
   "outputs": [],
   "source": [
    "from sklearn.feature_extraction.text import CountVectorizer\n",
    "\n",
    "# Fit the CountVectorizer to the training data\n",
    "vect = CountVectorizer().fit(x_train)"
   ]
  },
  {
   "cell_type": "code",
   "execution_count": 29,
   "metadata": {
    "colab": {
     "base_uri": "https://localhost:8080/",
     "height": 197
    },
    "colab_type": "code",
    "executionInfo": {
     "elapsed": 1140,
     "status": "ok",
     "timestamp": 1600594557316,
     "user": {
      "displayName": "sunny",
      "photoUrl": "https://lh3.googleusercontent.com/a-/AOh14GjDGvhwrgQHzGTzm2Q9zSscP5-STzYjbgq990qz=s64",
      "userId": "16372532008308965642"
     },
     "user_tz": -330
    },
    "id": "xCLKjK90I781",
    "outputId": "c30fc25c-f4f9-441c-badd-044d10c455c1"
   },
   "outputs": [
    {
     "data": {
      "text/html": [
       "<div>\n",
       "<style scoped>\n",
       "    .dataframe tbody tr th:only-of-type {\n",
       "        vertical-align: middle;\n",
       "    }\n",
       "\n",
       "    .dataframe tbody tr th {\n",
       "        vertical-align: top;\n",
       "    }\n",
       "\n",
       "    .dataframe thead th {\n",
       "        text-align: right;\n",
       "    }\n",
       "</style>\n",
       "<table border=\"1\" class=\"dataframe\">\n",
       "  <thead>\n",
       "    <tr style=\"text-align: right;\">\n",
       "      <th></th>\n",
       "      <th>text</th>\n",
       "      <th>category</th>\n",
       "    </tr>\n",
       "  </thead>\n",
       "  <tbody>\n",
       "    <tr>\n",
       "      <th>0</th>\n",
       "      <td>hoo mammokka police vesham aaha anthas</td>\n",
       "      <td>Positive</td>\n",
       "    </tr>\n",
       "    <tr>\n",
       "      <th>1</th>\n",
       "      <td>Oru rekshayum illa...kidilam kannu nananjupoyi</td>\n",
       "      <td>Positive</td>\n",
       "    </tr>\n",
       "    <tr>\n",
       "      <th>2</th>\n",
       "      <td>Ikka     aiting.........</td>\n",
       "      <td>Positive</td>\n",
       "    </tr>\n",
       "    <tr>\n",
       "      <th>3</th>\n",
       "      <td>Raju Ettante Oro Shorttum Ijathi ppli</td>\n",
       "      <td>Positive</td>\n",
       "    </tr>\n",
       "    <tr>\n",
       "      <th>4</th>\n",
       "      <td>Ettan fansil netti poya aarenkilum undo?    #...</td>\n",
       "      <td>Positive</td>\n",
       "    </tr>\n",
       "  </tbody>\n",
       "</table>\n",
       "</div>"
      ],
      "text/plain": [
       "                                                text   category\n",
       "0             hoo mammokka police vesham aaha anthas  Positive \n",
       "1     Oru rekshayum illa...kidilam kannu nananjupoyi  Positive \n",
       "2                           Ikka     aiting.........  Positive \n",
       "3              Raju Ettante Oro Shorttum Ijathi ppli  Positive \n",
       "4   Ettan fansil netti poya aarenkilum undo?    #...  Positive "
      ]
     },
     "execution_count": 29,
     "metadata": {
      "tags": []
     },
     "output_type": "execute_result"
    }
   ],
   "source": [
    "malayalam_train.head()"
   ]
  },
  {
   "cell_type": "code",
   "execution_count": 30,
   "metadata": {
    "colab": {
     "base_uri": "https://localhost:8080/",
     "height": 34
    },
    "colab_type": "code",
    "executionInfo": {
     "elapsed": 1119,
     "status": "ok",
     "timestamp": 1600594557857,
     "user": {
      "displayName": "sunny",
      "photoUrl": "https://lh3.googleusercontent.com/a-/AOh14GjDGvhwrgQHzGTzm2Q9zSscP5-STzYjbgq990qz=s64",
      "userId": "16372532008308965642"
     },
     "user_tz": -330
    },
    "id": "J64ZuuCCIt6Q",
    "outputId": "afa2e795-01b9-45b2-ad93-f7518993a740"
   },
   "outputs": [
    {
     "data": {
      "text/plain": [
       "12782"
      ]
     },
     "execution_count": 30,
     "metadata": {
      "tags": []
     },
     "output_type": "execute_result"
    }
   ],
   "source": [
    "len(vect.get_feature_names())"
   ]
  },
  {
   "cell_type": "code",
   "execution_count": 31,
   "metadata": {
    "colab": {
     "base_uri": "https://localhost:8080/",
     "height": 52
    },
    "colab_type": "code",
    "executionInfo": {
     "elapsed": 1486,
     "status": "ok",
     "timestamp": 1600594558597,
     "user": {
      "displayName": "sunny",
      "photoUrl": "https://lh3.googleusercontent.com/a-/AOh14GjDGvhwrgQHzGTzm2Q9zSscP5-STzYjbgq990qz=s64",
      "userId": "16372532008308965642"
     },
     "user_tz": -330
    },
    "id": "qZVmrk2nI47t",
    "outputId": "bfbfee27-5536-4355-a007-99b17262f084"
   },
   "outputs": [
    {
     "data": {
      "text/plain": [
       "<4851x12782 sparse matrix of type '<class 'numpy.int64'>'\n",
       "\twith 37584 stored elements in Compressed Sparse Row format>"
      ]
     },
     "execution_count": 31,
     "metadata": {
      "tags": []
     },
     "output_type": "execute_result"
    }
   ],
   "source": [
    "X_train_vect=vect.transform(x_train)\n",
    "X_train_vect"
   ]
  },
  {
   "cell_type": "code",
   "execution_count": 32,
   "metadata": {
    "colab": {},
    "colab_type": "code",
    "executionInfo": {
     "elapsed": 1095,
     "status": "ok",
     "timestamp": 1600594558598,
     "user": {
      "displayName": "sunny",
      "photoUrl": "https://lh3.googleusercontent.com/a-/AOh14GjDGvhwrgQHzGTzm2Q9zSscP5-STzYjbgq990qz=s64",
      "userId": "16372532008308965642"
     },
     "user_tz": -330
    },
    "id": "tYn2c4BqJpHa"
   },
   "outputs": [],
   "source": [
    "max_length=192\n",
    "classes=y_train.unique().tolist()\n"
   ]
  },
  {
   "cell_type": "code",
   "execution_count": 33,
   "metadata": {
    "colab": {},
    "colab_type": "code",
    "executionInfo": {
     "elapsed": 1163,
     "status": "ok",
     "timestamp": 1600594559213,
     "user": {
      "displayName": "sunny",
      "photoUrl": "https://lh3.googleusercontent.com/a-/AOh14GjDGvhwrgQHzGTzm2Q9zSscP5-STzYjbgq990qz=s64",
      "userId": "16372532008308965642"
     },
     "user_tz": -330
    },
    "id": "_cIhKd4pKV5o"
   },
   "outputs": [],
   "source": [
    "def trans_y(y_train):\n",
    "  y_train_label=[]\n",
    "  for label in y_train:\n",
    "    y_train_label.append(classes.index(label))\n",
    "  return y_train_label"
   ]
  },
  {
   "cell_type": "code",
   "execution_count": 34,
   "metadata": {
    "colab": {},
    "colab_type": "code",
    "executionInfo": {
     "elapsed": 1673,
     "status": "ok",
     "timestamp": 1600594560111,
     "user": {
      "displayName": "sunny",
      "photoUrl": "https://lh3.googleusercontent.com/a-/AOh14GjDGvhwrgQHzGTzm2Q9zSscP5-STzYjbgq990qz=s64",
      "userId": "16372532008308965642"
     },
     "user_tz": -330
    },
    "id": "31A5m4mPLtxc"
   },
   "outputs": [],
   "source": [
    "y_train_label=trans_y(y_train)"
   ]
  },
  {
   "cell_type": "code",
   "execution_count": 35,
   "metadata": {
    "colab": {
     "base_uri": "https://localhost:8080/",
     "height": 105
    },
    "colab_type": "code",
    "executionInfo": {
     "elapsed": 2822,
     "status": "ok",
     "timestamp": 1600594561853,
     "user": {
      "displayName": "sunny",
      "photoUrl": "https://lh3.googleusercontent.com/a-/AOh14GjDGvhwrgQHzGTzm2Q9zSscP5-STzYjbgq990qz=s64",
      "userId": "16372532008308965642"
     },
     "user_tz": -330
    },
    "id": "4XMSA0PuKrUd",
    "outputId": "190a75d5-8abb-4e6e-c589-42edce0a212f"
   },
   "outputs": [
    {
     "data": {
      "text/plain": [
       "LogisticRegression(C=1, class_weight=None, dual=False, fit_intercept=True,\n",
       "                   intercept_scaling=1, l1_ratio=None, max_iter=100,\n",
       "                   multi_class='ovr', n_jobs=None, penalty='l2',\n",
       "                   random_state=None, solver='lbfgs', tol=0.0001, verbose=0,\n",
       "                   warm_start=False)"
      ]
     },
     "execution_count": 35,
     "metadata": {
      "tags": []
     },
     "output_type": "execute_result"
    }
   ],
   "source": [
    "from sklearn.linear_model import LogisticRegression\n",
    "\n",
    "model = LogisticRegression(C=1, multi_class='ovr')\n",
    "model.fit(X_train_vect,y_train_label)"
   ]
  },
  {
   "cell_type": "code",
   "execution_count": 36,
   "metadata": {
    "colab": {},
    "colab_type": "code",
    "executionInfo": {
     "elapsed": 2424,
     "status": "ok",
     "timestamp": 1600594561855,
     "user": {
      "displayName": "sunny",
      "photoUrl": "https://lh3.googleusercontent.com/a-/AOh14GjDGvhwrgQHzGTzm2Q9zSscP5-STzYjbgq990qz=s64",
      "userId": "16372532008308965642"
     },
     "user_tz": -330
    },
    "id": "rA6jJl_ML0Ih"
   },
   "outputs": [],
   "source": [
    "y_test_label=trans_y(y_test)"
   ]
  },
  {
   "cell_type": "code",
   "execution_count": 37,
   "metadata": {
    "colab": {},
    "colab_type": "code",
    "executionInfo": {
     "elapsed": 1922,
     "status": "ok",
     "timestamp": 1600594561856,
     "user": {
      "displayName": "sunny",
      "photoUrl": "https://lh3.googleusercontent.com/a-/AOh14GjDGvhwrgQHzGTzm2Q9zSscP5-STzYjbgq990qz=s64",
      "userId": "16372532008308965642"
     },
     "user_tz": -330
    },
    "id": "utnoQp6sK6dz"
   },
   "outputs": [],
   "source": [
    "from sklearn.metrics import roc_auc_score, accuracy_score\n",
    "prediction=model.predict(vect.transform(x_test))\n",
    "\n",
    "prediction_train=model.predict(X_train_vect)"
   ]
  },
  {
   "cell_type": "code",
   "execution_count": 38,
   "metadata": {
    "colab": {
     "base_uri": "https://localhost:8080/",
     "height": 34
    },
    "colab_type": "code",
    "executionInfo": {
     "elapsed": 1599,
     "status": "ok",
     "timestamp": 1600594561857,
     "user": {
      "displayName": "sunny",
      "photoUrl": "https://lh3.googleusercontent.com/a-/AOh14GjDGvhwrgQHzGTzm2Q9zSscP5-STzYjbgq990qz=s64",
      "userId": "16372532008308965642"
     },
     "user_tz": -330
    },
    "id": "wyNt-QkVMDyb",
    "outputId": "fec3952e-3990-4000-a6bf-6fb1635f7320"
   },
   "outputs": [
    {
     "data": {
      "text/plain": [
       "0.9595959595959596"
      ]
     },
     "execution_count": 38,
     "metadata": {
      "tags": []
     },
     "output_type": "execute_result"
    }
   ],
   "source": [
    "accuracy_score(y_train_label,prediction_train)"
   ]
  },
  {
   "cell_type": "code",
   "execution_count": 39,
   "metadata": {
    "colab": {
     "base_uri": "https://localhost:8080/",
     "height": 34
    },
    "colab_type": "code",
    "executionInfo": {
     "elapsed": 1099,
     "status": "ok",
     "timestamp": 1600594561858,
     "user": {
      "displayName": "sunny",
      "photoUrl": "https://lh3.googleusercontent.com/a-/AOh14GjDGvhwrgQHzGTzm2Q9zSscP5-STzYjbgq990qz=s64",
      "userId": "16372532008308965642"
     },
     "user_tz": -330
    },
    "id": "BBgSYEW5Ml9l",
    "outputId": "3cccbe89-1586-4bcc-8d30-f0e941e09c54"
   },
   "outputs": [
    {
     "data": {
      "text/plain": [
       "array([0, 0, 0, ..., 3, 4, 3])"
      ]
     },
     "execution_count": 39,
     "metadata": {
      "tags": []
     },
     "output_type": "execute_result"
    }
   ],
   "source": [
    "prediction_train"
   ]
  },
  {
   "cell_type": "code",
   "execution_count": 40,
   "metadata": {
    "colab": {
     "base_uri": "https://localhost:8080/",
     "height": 34
    },
    "colab_type": "code",
    "executionInfo": {
     "elapsed": 1101,
     "status": "ok",
     "timestamp": 1600594562301,
     "user": {
      "displayName": "sunny",
      "photoUrl": "https://lh3.googleusercontent.com/a-/AOh14GjDGvhwrgQHzGTzm2Q9zSscP5-STzYjbgq990qz=s64",
      "userId": "16372532008308965642"
     },
     "user_tz": -330
    },
    "id": "0PcbHnqfW4Sr",
    "outputId": "ab0212ee-8357-424e-9837-154ade72ee90"
   },
   "outputs": [
    {
     "data": {
      "text/plain": [
       "0.6851851851851852"
      ]
     },
     "execution_count": 40,
     "metadata": {
      "tags": []
     },
     "output_type": "execute_result"
    }
   ],
   "source": [
    "accuracy_score(y_test_label,prediction)"
   ]
  },
  {
   "cell_type": "code",
   "execution_count": 41,
   "metadata": {
    "colab": {},
    "colab_type": "code",
    "executionInfo": {
     "elapsed": 1260,
     "status": "ok",
     "timestamp": 1600594562953,
     "user": {
      "displayName": "sunny",
      "photoUrl": "https://lh3.googleusercontent.com/a-/AOh14GjDGvhwrgQHzGTzm2Q9zSscP5-STzYjbgq990qz=s64",
      "userId": "16372532008308965642"
     },
     "user_tz": -330
    },
    "id": "ezCILd3nf5gl"
   },
   "outputs": [],
   "source": [
    "import matplotlib.pyplot as plt"
   ]
  },
  {
   "cell_type": "code",
   "execution_count": 42,
   "metadata": {
    "colab": {},
    "colab_type": "code",
    "executionInfo": {
     "elapsed": 1418,
     "status": "ok",
     "timestamp": 1600594563544,
     "user": {
      "displayName": "sunny",
      "photoUrl": "https://lh3.googleusercontent.com/a-/AOh14GjDGvhwrgQHzGTzm2Q9zSscP5-STzYjbgq990qz=s64",
      "userId": "16372532008308965642"
     },
     "user_tz": -330
    },
    "id": "fYLZR12m3XCj"
   },
   "outputs": [],
   "source": [
    "from sklearn.metrics import confusion_matrix"
   ]
  },
  {
   "cell_type": "code",
   "execution_count": 43,
   "metadata": {
    "colab": {
     "base_uri": "https://localhost:8080/",
     "height": 105
    },
    "colab_type": "code",
    "executionInfo": {
     "elapsed": 821,
     "status": "ok",
     "timestamp": 1600594563547,
     "user": {
      "displayName": "sunny",
      "photoUrl": "https://lh3.googleusercontent.com/a-/AOh14GjDGvhwrgQHzGTzm2Q9zSscP5-STzYjbgq990qz=s64",
      "userId": "16372532008308965642"
     },
     "user_tz": -330
    },
    "id": "WS3tQae52Sta",
    "outputId": "402dc4d8-28ce-42cb-ad3b-02961a416cf4"
   },
   "outputs": [
    {
     "name": "stdout",
     "output_type": "stream",
     "text": [
      "[[175  11  27   5   6]\n",
      " [  7  43   9   0   1]\n",
      " [ 31   7 118   0   5]\n",
      " [ 23   1   7   9   4]\n",
      " [ 15   0  10   1  25]]\n"
     ]
    }
   ],
   "source": [
    "confusion_m=confusion_matrix(y_test_label,prediction)\n",
    "\n",
    "confusion_df=pd.DataFrame(confusion_m,index=[i for i in range(1,6)],columns=[i for i in range(1,6)])\n",
    "print(confusion_m)"
   ]
  },
  {
   "cell_type": "code",
   "execution_count": 44,
   "metadata": {
    "colab": {
     "base_uri": "https://localhost:8080/",
     "height": 312
    },
    "colab_type": "code",
    "executionInfo": {
     "elapsed": 1424,
     "status": "ok",
     "timestamp": 1600594564626,
     "user": {
      "displayName": "sunny",
      "photoUrl": "https://lh3.googleusercontent.com/a-/AOh14GjDGvhwrgQHzGTzm2Q9zSscP5-STzYjbgq990qz=s64",
      "userId": "16372532008308965642"
     },
     "user_tz": -330
    },
    "id": "du4Wuz0n2w4m",
    "outputId": "07a36097-c59e-432f-9beb-ede525b76020"
   },
   "outputs": [
    {
     "data": {
      "text/plain": [
       "<function matplotlib.pyplot.show>"
      ]
     },
     "execution_count": 44,
     "metadata": {
      "tags": []
     },
     "output_type": "execute_result"
    },
    {
     "data": {
      "image/png": "[encoded data removed]",
      "text/plain": [
       "<Figure size 432x288 with 2 Axes>"
      ]
     },
     "metadata": {
      "needs_background": "light",
      "tags": []
     },
     "output_type": "display_data"
    }
   ],
   "source": [
    "plt.figure\n",
    "sns.heatmap(confusion_df, annot=True)\n",
    "plt.ylabel('Predicted Values')\n",
    "plt.xlabel('Actual Values')\n",
    "plt.title('SVM rbf kernel')\n",
    "plt.show"
   ]
  },
  {
   "cell_type": "code",
   "execution_count": 45,
   "metadata": {
    "colab": {
     "base_uri": "https://localhost:8080/",
     "height": 38,
     "resources": {
      "http://localhost:8080/nbextensions/google.colab/files.js": {
       "data": "Ly8gQ29weXJpZ2h0IDIwMTcgR29vZ2xlIExMQwovLwovLyBMaWNlbnNlZCB1bmRlciB0aGUgQXBhY2hlIExpY2Vuc2UsIFZlcnNpb24gMi4wICh0aGUgIkxpY2Vuc2UiKTsKLy8geW91IG1heSBub3QgdXNlIHRoaXMgZmlsZSBleGNlcHQgaW4gY29tcGxpYW5jZSB3aXRoIHRoZSBMaWNlbnNlLgovLyBZb3UgbWF5IG9idGFpbiBhIGNvcHkgb2YgdGhlIExpY2Vuc2UgYXQKLy8KLy8gICAgICBodHRwOi8vd3d3LmFwYWNoZS5vcmcvbGljZW5zZXMvTElDRU5TRS0yLjAKLy8KLy8gVW5sZXNzIHJlcXVpcmVkIGJ5IGFwcGxpY2FibGUgbGF3IG9yIGFncmVlZCB0byBpbiB3cml0aW5nLCBzb2Z0d2FyZQovLyBkaXN0cmlidXRlZCB1bmRlciB0aGUgTGljZW5zZSBpcyBkaXN0cmlidXRlZCBvbiBhbiAiQVMgSVMiIEJBU0lTLAovLyBXSVRIT1VUIFdBUlJBTlRJRVMgT1IgQ09ORElUSU9OUyBPRiBBTlkgS0lORCwgZWl0aGVyIGV4cHJlc3Mgb3IgaW1wbGllZC4KLy8gU2VlIHRoZSBMaWNlbnNlIGZvciB0aGUgc3BlY2lmaWMgbGFuZ3VhZ2UgZ292ZXJuaW5nIHBlcm1pc3Npb25zIGFuZAovLyBsaW1pdGF0aW9ucyB1bmRlciB0aGUgTGljZW5zZS4KCi8qKgogKiBAZmlsZW92ZXJ2aWV3IEhlbHBlcnMgZm9yIGdvb2dsZS5jb2xhYiBQeXRob24gbW9kdWxlLgogKi8KKGZ1bmN0aW9uKHNjb3BlKSB7CmZ1bmN0aW9uIHNwYW4odGV4dCwgc3R5bGVBdHRyaWJ1dGVzID0ge30pIHsKICBjb25zdCBlbGVtZW50ID0gZG9jdW1lbnQuY3JlYXRlRWxlbWVudCgnc3BhbicpOwogIGVsZW1lbnQudGV4dENvbnRlbnQgPSB0ZXh0OwogIGZvciAoY29uc3Qga2V5IG9mIE9iamVjdC5rZXlzKHN0eWxlQXR0cmlidXRlcykpIHsKICAgIGVsZW1lbnQuc3R5bGVba2V5XSA9IHN0eWxlQXR0cmlidXRlc1trZXldOwogIH0KICByZXR1cm4gZWxlbWVudDsKfQoKLy8gTWF4IG51bWJlciBvZiBieXRlcyB3aGljaCB3aWxsIGJlIHVwbG9hZGVkIGF0IGEgdGltZS4KY29uc3QgTUFYX1BBWUxPQURfU0laRSA9IDEwMCAqIDEwMjQ7CgpmdW5jdGlvbiBfdXBsb2FkRmlsZXMoaW5wdXRJZCwgb3V0cHV0SWQpIHsKICBjb25zdCBzdGVwcyA9IHVwbG9hZEZpbGVzU3RlcChpbnB1dElkLCBvdXRwdXRJZCk7CiAgY29uc3Qgb3V0cHV0RWxlbWVudCA9IGRvY3VtZW50LmdldEVsZW1lbnRCeUlkKG91dHB1dElkKTsKICAvLyBDYWNoZSBzdGVwcyBvbiB0aGUgb3V0cHV0RWxlbWVudCB0byBtYWtlIGl0IGF2YWlsYWJsZSBmb3IgdGhlIG5leHQgY2FsbAogIC8vIHRvIHVwbG9hZEZpbGVzQ29udGludWUgZnJvbSBQeXRob24uCiAgb3V0cHV0RWxlbWVudC5zdGVwcyA9IHN0ZXBzOwoKICByZXR1cm4gX3VwbG9hZEZpbGVzQ29udGludWUob3V0cHV0SWQpOwp9CgovLyBUaGlzIGlzIHJvdWdobHkgYW4gYXN5bmMgZ2VuZXJhdG9yIChub3Qgc3VwcG9ydGVkIGluIHRoZSBicm93c2VyIHlldCksCi8vIHdoZXJlIHRoZXJlIGFyZSBtdWx0aXBsZSBhc3luY2hyb25vdXMgc3RlcHMgYW5kIHRoZSBQeXRob24gc2lkZSBpcyBnb2luZwovLyB0byBwb2xsIGZvciBjb21wbGV0aW9uIG9mIGVhY2ggc3RlcC4KLy8gVGhpcyB1c2VzIGEgUHJvbWlzZSB0byBibG9jayB0aGUgcHl0aG9uIHNpZGUgb24gY29tcGxldGlvbiBvZiBlYWNoIHN0ZXAsCi8vIHRoZW4gcGFzc2VzIHRoZSByZXN1bHQgb2YgdGhlIHByZXZpb3VzIHN0ZXAgYXMgdGhlIGlucHV0IHRvIHRoZSBuZXh0IHN0ZXAuCmZ1bmN0aW9uIF91cGxvYWRGaWxlc0NvbnRpbnVlKG91dHB1dElkKSB7CiAgY29uc3Qgb3V0cHV0RWxlbWVudCA9IGRvY3VtZW50LmdldEVsZW1lbnRCeUlkKG91dHB1dElkKTsKICBjb25zdCBzdGVwcyA9IG91dHB1dEVsZW1lbnQuc3RlcHM7CgogIGNvbnN0IG5leHQgPSBzdGVwcy5uZXh0KG91dHB1dEVsZW1lbnQubGFzdFByb21pc2VWYWx1ZSk7CiAgcmV0dXJuIFByb21pc2UucmVzb2x2ZShuZXh0LnZhbHVlLnByb21pc2UpLnRoZW4oKHZhbHVlKSA9PiB7CiAgICAvLyBDYWNoZSB0aGUgbGFzdCBwcm9taXNlIHZhbHVlIHRvIG1ha2UgaXQgYXZhaWxhYmxlIHRvIHRoZSBuZXh0CiAgICAvLyBzdGVwIG9mIHRoZSBnZW5lcmF0b3IuCiAgICBvdXRwdXRFbGVtZW50Lmxhc3RQcm9taXNlVmFsdWUgPSB2YWx1ZTsKICAgIHJldHVybiBuZXh0LnZhbHVlLnJlc3BvbnNlOwogIH0pOwp9CgovKioKICogR2VuZXJhdG9yIGZ1bmN0aW9uIHdoaWNoIGlzIGNhbGxlZCBiZXR3ZWVuIGVhY2ggYXN5bmMgc3RlcCBvZiB0aGUgdXBsb2FkCiAqIHByb2Nlc3MuCiAqIEBwYXJhbSB7c3RyaW5nfSBpbnB1dElkIEVsZW1lbnQgSUQgb2YgdGhlIGlucHV0IGZpbGUgcGlja2VyIGVsZW1lbnQuCiAqIEBwYXJhbSB7c3RyaW5nfSBvdXRwdXRJZCBFbGVtZW50IElEIG9mIHRoZSBvdXRwdXQgZGlzcGxheS4KICogQHJldHVybiB7IUl0ZXJhYmxlPCFPYmplY3Q+fSBJdGVyYWJsZSBvZiBuZXh0IHN0ZXBzLgogKi8KZnVuY3Rpb24qIHVwbG9hZEZpbGVzU3RlcChpbnB1dElkLCBvdXRwdXRJZCkgewogIGNvbnN0IGlucHV0RWxlbWVudCA9IGRvY3VtZW50LmdldEVsZW1lbnRCeUlkKGlucHV0SWQpOwogIGlucHV0RWxlbWVudC5kaXNhYmxlZCA9IGZhbHNlOwoKICBjb25zdCBvdXRwdXRFbGVtZW50ID0gZG9jdW1lbnQuZ2V0RWxlbWVudEJ5SWQob3V0cHV0SWQpOwogIG91dHB1dEVsZW1lbnQuaW5uZXJIVE1MID0gJyc7CgogIGNvbnN0IHBpY2tlZFByb21pc2UgPSBuZXcgUHJvbWlzZSgocmVzb2x2ZSkgPT4gewogICAgaW5wdXRFbGVtZW50LmFkZEV2ZW50TGlzdGVuZXIoJ2NoYW5nZScsIChlKSA9PiB7CiAgICAgIHJlc29sdmUoZS50YXJnZXQuZmlsZXMpOwogICAgfSk7CiAgfSk7CgogIGNvbnN0IGNhbmNlbCA9IGRvY3VtZW50LmNyZWF0ZUVsZW1lbnQoJ2J1dHRvbicpOwogIGlucHV0RWxlbWVudC5wYXJlbnRFbGVtZW50LmFwcGVuZENoaWxkKGNhbmNlbCk7CiAgY2FuY2VsLnRleHRDb250ZW50ID0gJ0NhbmNlbCB1cGxvYWQnOwogIGNvbnN0IGNhbmNlbFByb21pc2UgPSBuZXcgUHJvbWlzZSgocmVzb2x2ZSkgPT4gewogICAgY2FuY2VsLm9uY2xpY2sgPSAoKSA9PiB7CiAgICAgIHJlc29sdmUobnVsbCk7CiAgICB9OwogIH0pOwoKICAvLyBXYWl0IGZvciB0aGUgdXNlciB0byBwaWNrIHRoZSBmaWxlcy4KICBjb25zdCBmaWxlcyA9IHlpZWxkIHsKICAgIHByb21pc2U6IFByb21pc2UucmFjZShbcGlja2VkUHJvbWlzZSwgY2FuY2VsUHJvbWlzZV0pLAogICAgcmVzcG9uc2U6IHsKICAgICAgYWN0aW9uOiAnc3RhcnRpbmcnLAogICAgfQogIH07CgogIGNhbmNlbC5yZW1vdmUoKTsKCiAgLy8gRGlzYWJsZSB0aGUgaW5wdXQgZWxlbWVudCBzaW5jZSBmdXJ0aGVyIHBpY2tzIGFyZSBub3QgYWxsb3dlZC4KICBpbnB1dEVsZW1lbnQuZGlzYWJsZWQgPSB0cnVlOwoKICBpZiAoIWZpbGVzKSB7CiAgICByZXR1cm4gewogICAgICByZXNwb25zZTogewogICAgICAgIGFjdGlvbjogJ2NvbXBsZXRlJywKICAgICAgfQogICAgfTsKICB9CgogIGZvciAoY29uc3QgZmlsZSBvZiBmaWxlcykgewogICAgY29uc3QgbGkgPSBkb2N1bWVudC5jcmVhdGVFbGVtZW50KCdsaScpOwogICAgbGkuYXBwZW5kKHNwYW4oZmlsZS5uYW1lLCB7Zm9udFdlaWdodDogJ2JvbGQnfSkpOwogICAgbGkuYXBwZW5kKHNwYW4oCiAgICAgICAgYCgke2ZpbGUudHlwZSB8fCAnbi9hJ30pIC0gJHtmaWxlLnNpemV9IGJ5dGVzLCBgICsKICAgICAgICBgbGFzdCBtb2RpZmllZDogJHsKICAgICAgICAgICAgZmlsZS5sYXN0TW9kaWZpZWREYXRlID8gZmlsZS5sYXN0TW9kaWZpZWREYXRlLnRvTG9jYWxlRGF0ZVN0cmluZygpIDoKICAgICAgICAgICAgICAgICAgICAgICAgICAgICAgICAgICAgJ24vYSd9IC0gYCkpOwogICAgY29uc3QgcGVyY2VudCA9IHNwYW4oJzAlIGRvbmUnKTsKICAgIGxpLmFwcGVuZENoaWxkKHBlcmNlbnQpOwoKICAgIG91dHB1dEVsZW1lbnQuYXBwZW5kQ2hpbGQobGkpOwoKICAgIGNvbnN0IGZpbGVEYXRhUHJvbWlzZSA9IG5ldyBQcm9taXNlKChyZXNvbHZlKSA9PiB7CiAgICAgIGNvbnN0IHJlYWRlciA9IG5ldyBGaWxlUmVhZGVyKCk7CiAgICAgIHJlYWRlci5vbmxvYWQgPSAoZSkgPT4gewogICAgICAgIHJlc29sdmUoZS50YXJnZXQucmVzdWx0KTsKICAgICAgfTsKICAgICAgcmVhZGVyLnJlYWRBc0FycmF5QnVmZmVyKGZpbGUpOwogICAgfSk7CiAgICAvLyBXYWl0IGZvciB0aGUgZGF0YSB0byBiZSByZWFkeS4KICAgIGxldCBmaWxlRGF0YSA9IHlpZWxkIHsKICAgICAgcHJvbWlzZTogZmlsZURhdGFQcm9taXNlLAogICAgICByZXNwb25zZTogewogICAgICAgIGFjdGlvbjogJ2NvbnRpbnVlJywKICAgICAgfQogICAgfTsKCiAgICAvLyBVc2UgYSBjaHVua2VkIHNlbmRpbmcgdG8gYXZvaWQgbWVzc2FnZSBzaXplIGxpbWl0cy4gU2VlIGIvNjIxMTU2NjAuCiAgICBsZXQgcG9zaXRpb24gPSAwOwogICAgd2hpbGUgKHBvc2l0aW9uIDwgZmlsZURhdGEuYnl0ZUxlbmd0aCkgewogICAgICBjb25zdCBsZW5ndGggPSBNYXRoLm1pbihmaWxlRGF0YS5ieXRlTGVuZ3RoIC0gcG9zaXRpb24sIE1BWF9QQVlMT0FEX1NJWkUpOwogICAgICBjb25zdCBjaHVuayA9IG5ldyBVaW50OEFycmF5KGZpbGVEYXRhLCBwb3NpdGlvbiwgbGVuZ3RoKTsKICAgICAgcG9zaXRpb24gKz0gbGVuZ3RoOwoKICAgICAgY29uc3QgYmFzZTY0ID0gYnRvYShTdHJpbmcuZnJvbUNoYXJDb2RlLmFwcGx5KG51bGwsIGNodW5rKSk7CiAgICAgIHlpZWxkIHsKICAgICAgICByZXNwb25zZTogewogICAgICAgICAgYWN0aW9uOiAnYXBwZW5kJywKICAgICAgICAgIGZpbGU6IGZpbGUubmFtZSwKICAgICAgICAgIGRhdGE6IGJhc2U2NCwKICAgICAgICB9LAogICAgICB9OwogICAgICBwZXJjZW50LnRleHRDb250ZW50ID0KICAgICAgICAgIGAke01hdGgucm91bmQoKHBvc2l0aW9uIC8gZmlsZURhdGEuYnl0ZUxlbmd0aCkgKiAxMDApfSUgZG9uZWA7CiAgICB9CiAgfQoKICAvLyBBbGwgZG9uZS4KICB5aWVsZCB7CiAgICByZXNwb25zZTogewogICAgICBhY3Rpb246ICdjb21wbGV0ZScsCiAgICB9CiAgfTsKfQoKc2NvcGUuZ29vZ2xlID0gc2NvcGUuZ29vZ2xlIHx8IHt9OwpzY29wZS5nb29nbGUuY29sYWIgPSBzY29wZS5nb29nbGUuY29sYWIgfHwge307CnNjb3BlLmdvb2dsZS5jb2xhYi5fZmlsZXMgPSB7CiAgX3VwbG9hZEZpbGVzLAogIF91cGxvYWRGaWxlc0NvbnRpbnVlLAp9Owp9KShzZWxmKTsK",
       "headers": [
        [
         "content-type",
         "application/javascript"
        ]
       ],
       "ok": true,
       "status": 200,
       "status_text": ""
      }
     }
    },
    "colab_type": "code",
    "executionInfo": {
     "elapsed": 6672,
     "status": "ok",
     "timestamp": 1600594570373,
     "user": {
      "displayName": "sunny",
      "photoUrl": "https://lh3.googleusercontent.com/a-/AOh14GjDGvhwrgQHzGTzm2Q9zSscP5-STzYjbgq990qz=s64",
      "userId": "16372532008308965642"
     },
     "user_tz": -330
    },
    "id": "0-HkvfZ3tnAT",
    "outputId": "976a2661-ebe3-4f85-8615-c332ffc3303d"
   },
   "outputs": [
    {
     "data": {
      "text/html": [
       "\n",
       "     <input type=\"file\" id=\"files-e2d9c022-0440-4455-ab21-b658164bb1fc\" name=\"files[]\" multiple disabled\n",
       "        style=\"border:none\" />\n",
       "     <output id=\"result-e2d9c022-0440-4455-ab21-b658164bb1fc\">\n",
       "      Upload widget is only available when the cell has been executed in the\n",
       "      current browser session. Please rerun this cell to enable.\n",
       "      </output>\n",
       "      <script src=\"/nbextensions/google.colab/files.js\"></script> "
      ],
      "text/plain": [
       "<IPython.core.display.HTML object>"
      ]
     },
     "metadata": {
      "tags": []
     },
     "output_type": "display_data"
    }
   ],
   "source": [
    "from google.colab import files\n",
    "uploaded = files.upload()"
   ]
  },
  {
   "cell_type": "code",
   "execution_count": 46,
   "metadata": {
    "colab": {
     "base_uri": "https://localhost:8080/",
     "height": 185
    },
    "colab_type": "code",
    "executionInfo": {
     "elapsed": 6165,
     "status": "error",
     "timestamp": 1600594570375,
     "user": {
      "displayName": "sunny",
      "photoUrl": "https://lh3.googleusercontent.com/a-/AOh14GjDGvhwrgQHzGTzm2Q9zSscP5-STzYjbgq990qz=s64",
      "userId": "16372532008308965642"
     },
     "user_tz": -330
    },
    "id": "bc6bo0DPtnN4",
    "outputId": "57acb686-223f-4403-9bbb-ec87991c8938"
   },
   "outputs": [
    {
     "ename": "KeyError",
     "evalue": "ignored",
     "output_type": "error",
     "traceback": [
      "\u001b[0;31m---------------------------------------------------------------------------\u001b[0m",
      "\u001b[0;31mKeyError\u001b[0m                                  Traceback (most recent call last)",
      "\u001b[0;32m<ipython-input-46-2ccf242e9a0d>\u001b[0m in \u001b[0;36m<module>\u001b[0;34m()\u001b[0m\n\u001b[1;32m      1\u001b[0m \u001b[0;32mimport\u001b[0m \u001b[0mio\u001b[0m\u001b[0;34m\u001b[0m\u001b[0;34m\u001b[0m\u001b[0m\n\u001b[0;32m----> 2\u001b[0;31m \u001b[0mm_test\u001b[0m \u001b[0;34m=\u001b[0m \u001b[0mpd\u001b[0m\u001b[0;34m.\u001b[0m\u001b[0mread_csv\u001b[0m\u001b[0;34m(\u001b[0m\u001b[0mio\u001b[0m\u001b[0;34m.\u001b[0m\u001b[0mBytesIO\u001b[0m\u001b[0;34m(\u001b[0m\u001b[0muploaded\u001b[0m\u001b[0;34m[\u001b[0m\u001b[0;34m'malayalam_test - malayalam_test.csv'\u001b[0m\u001b[0;34m]\u001b[0m\u001b[0;34m)\u001b[0m\u001b[0;34m)\u001b[0m\u001b[0;34m\u001b[0m\u001b[0;34m\u001b[0m\u001b[0m\n\u001b[0m",
      "\u001b[0;31mKeyError\u001b[0m: 'malayalam_test - malayalam_test.csv'"
     ]
    }
   ],
   "source": [
    "import io\n",
    "m_test = pd.read_csv(io.BytesIO(uploaded['malayalam_test - malayalam_test.csv']))"
   ]
  },
  {
   "cell_type": "code",
   "execution_count": 37,
   "metadata": {
    "colab": {},
    "colab_type": "code",
    "executionInfo": {
     "elapsed": 897,
     "status": "ok",
     "timestamp": 1600540200819,
     "user": {
      "displayName": "sunny",
      "photoUrl": "https://lh3.googleusercontent.com/a-/AOh14GjDGvhwrgQHzGTzm2Q9zSscP5-STzYjbgq990qz=s64",
      "userId": "16372532008308965642"
     },
     "user_tz": -330
    },
    "id": "FHVi33Mv0UB7"
   },
   "outputs": [],
   "source": [
    "M_test_x=m_test['text'].apply(clean)\n"
   ]
  },
  {
   "cell_type": "code",
   "execution_count": 38,
   "metadata": {
    "colab": {},
    "colab_type": "code",
    "executionInfo": {
     "elapsed": 956,
     "status": "ok",
     "timestamp": 1600540201936,
     "user": {
      "displayName": "sunny",
      "photoUrl": "https://lh3.googleusercontent.com/a-/AOh14GjDGvhwrgQHzGTzm2Q9zSscP5-STzYjbgq990qz=s64",
      "userId": "16372532008308965642"
     },
     "user_tz": -330
    },
    "id": "5lxS7XzDgOPY"
   },
   "outputs": [],
   "source": [
    "a=model.predict(vect.transform(M_test_x))"
   ]
  },
  {
   "cell_type": "code",
   "execution_count": 39,
   "metadata": {
    "colab": {},
    "colab_type": "code",
    "executionInfo": {
     "elapsed": 753,
     "status": "ok",
     "timestamp": 1600540202444,
     "user": {
      "displayName": "sunny",
      "photoUrl": "https://lh3.googleusercontent.com/a-/AOh14GjDGvhwrgQHzGTzm2Q9zSscP5-STzYjbgq990qz=s64",
      "userId": "16372532008308965642"
     },
     "user_tz": -330
    },
    "id": "KLaNmye9gnVu"
   },
   "outputs": [],
   "source": [
    "pre_m=[]\n",
    "for i in a:\n",
    "  pre_m.append(classes[i])"
   ]
  },
  {
   "cell_type": "code",
   "execution_count": 40,
   "metadata": {
    "colab": {
     "base_uri": "https://localhost:8080/",
     "height": 197
    },
    "colab_type": "code",
    "executionInfo": {
     "elapsed": 830,
     "status": "ok",
     "timestamp": 1600540203709,
     "user": {
      "displayName": "sunny",
      "photoUrl": "https://lh3.googleusercontent.com/a-/AOh14GjDGvhwrgQHzGTzm2Q9zSscP5-STzYjbgq990qz=s64",
      "userId": "16372532008308965642"
     },
     "user_tz": -330
    },
    "id": "REVmekengnaQ",
    "outputId": "503761cb-83e9-4d82-9249-f2b7d30b61e1"
   },
   "outputs": [
    {
     "data": {
      "text/html": [
       "<div>\n",
       "<style scoped>\n",
       "    .dataframe tbody tr th:only-of-type {\n",
       "        vertical-align: middle;\n",
       "    }\n",
       "\n",
       "    .dataframe tbody tr th {\n",
       "        vertical-align: top;\n",
       "    }\n",
       "\n",
       "    .dataframe thead th {\n",
       "        text-align: right;\n",
       "    }\n",
       "</style>\n",
       "<table border=\"1\" class=\"dataframe\">\n",
       "  <thead>\n",
       "    <tr style=\"text-align: right;\">\n",
       "      <th></th>\n",
       "      <th>id</th>\n",
       "      <th>text</th>\n",
       "      <th>label</th>\n",
       "    </tr>\n",
       "  </thead>\n",
       "  <tbody>\n",
       "    <tr>\n",
       "      <th>0</th>\n",
       "      <td>ml_sen_1</td>\n",
       "      <td>Bollywood film Newton inte remake aano?</td>\n",
       "      <td>unknown_state</td>\n",
       "    </tr>\n",
       "    <tr>\n",
       "      <th>1</th>\n",
       "      <td>ml_sen_2</td>\n",
       "      <td>endukond viewrs koodunnilla ?? ippozhum 2.8m a...</td>\n",
       "      <td>unknown_state</td>\n",
       "    </tr>\n",
       "    <tr>\n",
       "      <th>2</th>\n",
       "      <td>ml_sen_3</td>\n",
       "      <td>Mara paazhu mega mairananil ninnum ethil koodu...</td>\n",
       "      <td>Negative</td>\n",
       "    </tr>\n",
       "    <tr>\n",
       "      <th>3</th>\n",
       "      <td>ml_sen_4</td>\n",
       "      <td>Video nay cang xem cang thit</td>\n",
       "      <td>unknown_state</td>\n",
       "    </tr>\n",
       "    <tr>\n",
       "      <th>4</th>\n",
       "      <td>ml_sen_5</td>\n",
       "      <td>Sunny chechiye kaanan vannathu njan maathram aano</td>\n",
       "      <td>Positive</td>\n",
       "    </tr>\n",
       "  </tbody>\n",
       "</table>\n",
       "</div>"
      ],
      "text/plain": [
       "         id                                               text           label\n",
       "0  ml_sen_1            Bollywood film Newton inte remake aano?  unknown_state \n",
       "1  ml_sen_2  endukond viewrs koodunnilla ?? ippozhum 2.8m a...  unknown_state \n",
       "2  ml_sen_3  Mara paazhu mega mairananil ninnum ethil koodu...       Negative \n",
       "3  ml_sen_4                       Video nay cang xem cang thit  unknown_state \n",
       "4  ml_sen_5  Sunny chechiye kaanan vannathu njan maathram aano       Positive "
      ]
     },
     "execution_count": 40,
     "metadata": {
      "tags": []
     },
     "output_type": "execute_result"
    }
   ],
   "source": [
    "m_test['label']=pre_m\n",
    "m_test.head()"
   ]
  },
  {
   "cell_type": "code",
   "execution_count": 41,
   "metadata": {
    "colab": {},
    "colab_type": "code",
    "executionInfo": {
     "elapsed": 892,
     "status": "ok",
     "timestamp": 1600540204889,
     "user": {
      "displayName": "sunny",
      "photoUrl": "https://lh3.googleusercontent.com/a-/AOh14GjDGvhwrgQHzGTzm2Q9zSscP5-STzYjbgq990qz=s64",
      "userId": "16372532008308965642"
     },
     "user_tz": -330
    },
    "id": "mSEZ3kdehYdi"
   },
   "outputs": [],
   "source": [
    "m_test.to_csv('Deepesh_malayalam.tsv',sep='\\t')"
   ]
  },
  {
   "cell_type": "code",
   "execution_count": 42,
   "metadata": {
    "colab": {},
    "colab_type": "code",
    "executionInfo": {
     "elapsed": 890,
     "status": "ok",
     "timestamp": 1600540206365,
     "user": {
      "displayName": "sunny",
      "photoUrl": "https://lh3.googleusercontent.com/a-/AOh14GjDGvhwrgQHzGTzm2Q9zSscP5-STzYjbgq990qz=s64",
      "userId": "16372532008308965642"
     },
     "user_tz": -330
    },
    "id": "ML-4--zbSUmo"
   },
   "outputs": [],
   "source": [
    "import sklearn"
   ]
  },
  {
   "cell_type": "code",
   "execution_count": 43,
   "metadata": {
    "colab": {},
    "colab_type": "code",
    "executionInfo": {
     "elapsed": 1249,
     "status": "ok",
     "timestamp": 1600540207731,
     "user": {
      "displayName": "sunny",
      "photoUrl": "https://lh3.googleusercontent.com/a-/AOh14GjDGvhwrgQHzGTzm2Q9zSscP5-STzYjbgq990qz=s64",
      "userId": "16372532008308965642"
     },
     "user_tz": -330
    },
    "id": "Ta5t2bZSMrtN"
   },
   "outputs": [],
   "source": [
    "from sklearn.svm import SVC\n",
    "from sklearn.model_selection import train_test_split, StratifiedKFold, cross_val_score\n",
    "from sklearn.pipeline import make_pipeline, Pipeline\n",
    "from sklearn.model_selection import GridSearchCV\n",
    "from sklearn.metrics import make_scorer, accuracy_score, f1_score\n",
    "from sklearn.metrics import roc_curve, auc\n",
    "from sklearn.metrics import confusion_matrix, recall_score, precision_score, make_scorer"
   ]
  },
  {
   "cell_type": "code",
   "execution_count": 44,
   "metadata": {
    "colab": {
     "base_uri": "https://localhost:8080/",
     "height": 54
    },
    "colab_type": "code",
    "executionInfo": {
     "elapsed": 1009,
     "status": "ok",
     "timestamp": 1600540208412,
     "user": {
      "displayName": "sunny",
      "photoUrl": "https://lh3.googleusercontent.com/a-/AOh14GjDGvhwrgQHzGTzm2Q9zSscP5-STzYjbgq990qz=s64",
      "userId": "16372532008308965642"
     },
     "user_tz": -330
    },
    "id": "S5FySOJFSRZX",
    "outputId": "e9857eb6-14a3-4850-c4ba-51a3691fe6be"
   },
   "outputs": [
    {
     "data": {
      "text/plain": [
       "dict_keys(['explained_variance', 'r2', 'max_error', 'neg_median_absolute_error', 'neg_mean_absolute_error', 'neg_mean_squared_error', 'neg_mean_squared_log_error', 'neg_root_mean_squared_error', 'neg_mean_poisson_deviance', 'neg_mean_gamma_deviance', 'accuracy', 'roc_auc', 'roc_auc_ovr', 'roc_auc_ovo', 'roc_auc_ovr_weighted', 'roc_auc_ovo_weighted', 'balanced_accuracy', 'average_precision', 'neg_log_loss', 'neg_brier_score', 'adjusted_rand_score', 'homogeneity_score', 'completeness_score', 'v_measure_score', 'mutual_info_score', 'adjusted_mutual_info_score', 'normalized_mutual_info_score', 'fowlkes_mallows_score', 'precision', 'precision_macro', 'precision_micro', 'precision_samples', 'precision_weighted', 'recall', 'recall_macro', 'recall_micro', 'recall_samples', 'recall_weighted', 'f1', 'f1_macro', 'f1_micro', 'f1_samples', 'f1_weighted', 'jaccard', 'jaccard_macro', 'jaccard_micro', 'jaccard_samples', 'jaccard_weighted'])"
      ]
     },
     "execution_count": 44,
     "metadata": {
      "tags": []
     },
     "output_type": "execute_result"
    }
   ],
   "source": [
    "sklearn.metrics.SCORERS.keys()"
   ]
  },
  {
   "cell_type": "code",
   "execution_count": 45,
   "metadata": {
    "colab": {
     "base_uri": "https://localhost:8080/",
     "height": 105
    },
    "colab_type": "code",
    "executionInfo": {
     "elapsed": 489517,
     "status": "ok",
     "timestamp": 1600540697803,
     "user": {
      "displayName": "sunny",
      "photoUrl": "https://lh3.googleusercontent.com/a-/AOh14GjDGvhwrgQHzGTzm2Q9zSscP5-STzYjbgq990qz=s64",
      "userId": "16372532008308965642"
     },
     "user_tz": -330
    },
    "id": "r-36duGoOOYs",
    "outputId": "46eeebd5-a07d-49ba-d2e4-4659a850314c"
   },
   "outputs": [
    {
     "name": "stdout",
     "output_type": "stream",
     "text": [
      "Fitting 5 folds for each of 12 candidates, totalling 60 fits\n"
     ]
    },
    {
     "name": "stderr",
     "output_type": "stream",
     "text": [
      "[Parallel(n_jobs=-1)]: Using backend LokyBackend with 2 concurrent workers.\n",
      "[Parallel(n_jobs=-1)]: Done  46 tasks      | elapsed:  6.0min\n",
      "[Parallel(n_jobs=-1)]: Done  60 out of  60 | elapsed:  7.8min finished\n"
     ]
    },
    {
     "data": {
      "text/plain": [
       "0.6370370370370371"
      ]
     },
     "execution_count": 45,
     "metadata": {
      "tags": []
     },
     "output_type": "execute_result"
    }
   ],
   "source": [
    "svm = SVC(probability=True, kernel=\"linear\", class_weight=\"balanced\",)\n",
    "\n",
    "grid_svm = GridSearchCV(svm,\n",
    "                    param_grid = {'C': [0.01, 0.1, 1],'gamma' :[.01,.1,1,10]}, \n",
    "                    cv = 5,\n",
    "                    scoring='accuracy',\n",
    "                    verbose=1,   \n",
    "                    n_jobs=-1) \n",
    "\n",
    "\n",
    "grid_svm.fit(X_train_vect, y_train_label)\n",
    "grid_svm.score(vect.transform(x_test), y_test_label)"
   ]
  },
  {
   "cell_type": "code",
   "execution_count": 46,
   "metadata": {
    "colab": {
     "base_uri": "https://localhost:8080/",
     "height": 34
    },
    "colab_type": "code",
    "executionInfo": {
     "elapsed": 483859,
     "status": "ok",
     "timestamp": 1600540697809,
     "user": {
      "displayName": "sunny",
      "photoUrl": "https://lh3.googleusercontent.com/a-/AOh14GjDGvhwrgQHzGTzm2Q9zSscP5-STzYjbgq990qz=s64",
      "userId": "16372532008308965642"
     },
     "user_tz": -330
    },
    "id": "Ksent3tkTWlg",
    "outputId": "5c748911-d06f-4530-d1db-2921a171cb75"
   },
   "outputs": [
    {
     "data": {
      "text/plain": [
       "0.6370370370370371"
      ]
     },
     "execution_count": 46,
     "metadata": {
      "tags": []
     },
     "output_type": "execute_result"
    }
   ],
   "source": [
    "model=grid_svm.best_estimator_ \n",
    " \n",
    "pred_test=model.predict(vect.transform(x_test))\n",
    "accuracy_score(y_test_label,pred_test)"
   ]
  },
  {
   "cell_type": "code",
   "execution_count": null,
   "metadata": {
    "colab": {},
    "colab_type": "code",
    "id": "da133xjFTsvZ"
   },
   "outputs": [],
   "source": []
  },
  {
   "cell_type": "code",
   "execution_count": 47,
   "metadata": {
    "colab": {
     "base_uri": "https://localhost:8080/",
     "height": 105
    },
    "colab_type": "code",
    "executionInfo": {
     "elapsed": 2919,
     "status": "ok",
     "timestamp": 1600541074891,
     "user": {
      "displayName": "sunny",
      "photoUrl": "https://lh3.googleusercontent.com/a-/AOh14GjDGvhwrgQHzGTzm2Q9zSscP5-STzYjbgq990qz=s64",
      "userId": "16372532008308965642"
     },
     "user_tz": -330
    },
    "id": "e1lsjpC6e0H-",
    "outputId": "8beb82c7-bc67-4193-f0ee-79ab72f732b2"
   },
   "outputs": [
    {
     "data": {
      "text/plain": [
       "LogisticRegression(C=1, class_weight=None, dual=False, fit_intercept=True,\n",
       "                   intercept_scaling=1, l1_ratio=None, max_iter=100,\n",
       "                   multi_class='auto', n_jobs=None, penalty='l2',\n",
       "                   random_state=None, solver='lbfgs', tol=0.0001, verbose=0,\n",
       "                   warm_start=False)"
      ]
     },
     "execution_count": 47,
     "metadata": {
      "tags": []
     },
     "output_type": "execute_result"
    }
   ],
   "source": [
    "from sklearn.linear_model import LogisticRegression\n",
    "\n",
    "model = LogisticRegression(C=1)\n",
    "model.fit(X_train_vect,y_train_label)"
   ]
  },
  {
   "cell_type": "code",
   "execution_count": 48,
   "metadata": {
    "colab": {},
    "colab_type": "code",
    "executionInfo": {
     "elapsed": 2218,
     "status": "ok",
     "timestamp": 1600541074892,
     "user": {
      "displayName": "sunny",
      "photoUrl": "https://lh3.googleusercontent.com/a-/AOh14GjDGvhwrgQHzGTzm2Q9zSscP5-STzYjbgq990qz=s64",
      "userId": "16372532008308965642"
     },
     "user_tz": -330
    },
    "id": "mhBxa5a9e0IC"
   },
   "outputs": [],
   "source": [
    "y_test_label=trans_y(y_test)"
   ]
  },
  {
   "cell_type": "code",
   "execution_count": 48,
   "metadata": {
    "colab": {},
    "colab_type": "code",
    "executionInfo": {
     "elapsed": 1728,
     "status": "ok",
     "timestamp": 1600541074893,
     "user": {
      "displayName": "sunny",
      "photoUrl": "https://lh3.googleusercontent.com/a-/AOh14GjDGvhwrgQHzGTzm2Q9zSscP5-STzYjbgq990qz=s64",
      "userId": "16372532008308965642"
     },
     "user_tz": -330
    },
    "id": "mD8uU8eWfge1"
   },
   "outputs": [],
   "source": []
  },
  {
   "cell_type": "code",
   "execution_count": 49,
   "metadata": {
    "colab": {},
    "colab_type": "code",
    "executionInfo": {
     "elapsed": 1341,
     "status": "ok",
     "timestamp": 1600541074894,
     "user": {
      "displayName": "sunny",
      "photoUrl": "https://lh3.googleusercontent.com/a-/AOh14GjDGvhwrgQHzGTzm2Q9zSscP5-STzYjbgq990qz=s64",
      "userId": "16372532008308965642"
     },
     "user_tz": -330
    },
    "id": "Q_D_Ii_pet_R"
   },
   "outputs": [],
   "source": [
    "\n",
    "prediction=model.predict(vect.transform(x_test))\n",
    "\n",
    "prediction_train=model.predict(X_train_vect)"
   ]
  },
  {
   "cell_type": "code",
   "execution_count": 50,
   "metadata": {
    "colab": {
     "base_uri": "https://localhost:8080/",
     "height": 34
    },
    "colab_type": "code",
    "executionInfo": {
     "elapsed": 1113,
     "status": "ok",
     "timestamp": 1600541075353,
     "user": {
      "displayName": "sunny",
      "photoUrl": "https://lh3.googleusercontent.com/a-/AOh14GjDGvhwrgQHzGTzm2Q9zSscP5-STzYjbgq990qz=s64",
      "userId": "16372532008308965642"
     },
     "user_tz": -330
    },
    "id": "L45UY4jSet_Z",
    "outputId": "dbedc16e-c1d9-499c-f407-ca8570e99e2f"
   },
   "outputs": [
    {
     "data": {
      "text/plain": [
       "0.9775304061018347"
      ]
     },
     "execution_count": 50,
     "metadata": {
      "tags": []
     },
     "output_type": "execute_result"
    }
   ],
   "source": [
    "accuracy_score(y_train_label,prediction_train)"
   ]
  },
  {
   "cell_type": "code",
   "execution_count": 51,
   "metadata": {
    "colab": {
     "base_uri": "https://localhost:8080/",
     "height": 34
    },
    "colab_type": "code",
    "executionInfo": {
     "elapsed": 727,
     "status": "ok",
     "timestamp": 1600541077127,
     "user": {
      "displayName": "sunny",
      "photoUrl": "https://lh3.googleusercontent.com/a-/AOh14GjDGvhwrgQHzGTzm2Q9zSscP5-STzYjbgq990qz=s64",
      "userId": "16372532008308965642"
     },
     "user_tz": -330
    },
    "id": "LNsC6e_5et_d",
    "outputId": "9a96fd80-1792-4c7e-b876-8a2b0403f00c"
   },
   "outputs": [
    {
     "data": {
      "text/plain": [
       "array([0, 0, 0, ..., 3, 4, 3])"
      ]
     },
     "execution_count": 51,
     "metadata": {
      "tags": []
     },
     "output_type": "execute_result"
    }
   ],
   "source": [
    "prediction_train"
   ]
  },
  {
   "cell_type": "code",
   "execution_count": 52,
   "metadata": {
    "colab": {
     "base_uri": "https://localhost:8080/",
     "height": 34
    },
    "colab_type": "code",
    "executionInfo": {
     "elapsed": 1121,
     "status": "ok",
     "timestamp": 1600541079125,
     "user": {
      "displayName": "sunny",
      "photoUrl": "https://lh3.googleusercontent.com/a-/AOh14GjDGvhwrgQHzGTzm2Q9zSscP5-STzYjbgq990qz=s64",
      "userId": "16372532008308965642"
     },
     "user_tz": -330
    },
    "id": "mYMaKWFyet_i",
    "outputId": "41084e5f-85ae-4965-e4e3-3a51c205c40e"
   },
   "outputs": [
    {
     "data": {
      "text/plain": [
       "0.6777777777777778"
      ]
     },
     "execution_count": 52,
     "metadata": {
      "tags": []
     },
     "output_type": "execute_result"
    }
   ],
   "source": [
    "accuracy_score(y_test_label,prediction)"
   ]
  },
  {
   "cell_type": "code",
   "execution_count": 54,
   "metadata": {
    "colab": {},
    "colab_type": "code",
    "executionInfo": {
     "elapsed": 1335,
     "status": "ok",
     "timestamp": 1600541093439,
     "user": {
      "displayName": "sunny",
      "photoUrl": "https://lh3.googleusercontent.com/a-/AOh14GjDGvhwrgQHzGTzm2Q9zSscP5-STzYjbgq990qz=s64",
      "userId": "16372532008308965642"
     },
     "user_tz": -330
    },
    "id": "g4IlMf0te2IU"
   },
   "outputs": [],
   "source": [
    "from sklearn.linear_model import Perceptron"
   ]
  },
  {
   "cell_type": "code",
   "execution_count": 55,
   "metadata": {
    "colab": {
     "base_uri": "https://localhost:8080/",
     "height": 87
    },
    "colab_type": "code",
    "executionInfo": {
     "elapsed": 983,
     "status": "ok",
     "timestamp": 1600541093440,
     "user": {
      "displayName": "sunny",
      "photoUrl": "https://lh3.googleusercontent.com/a-/AOh14GjDGvhwrgQHzGTzm2Q9zSscP5-STzYjbgq990qz=s64",
      "userId": "16372532008308965642"
     },
     "user_tz": -330
    },
    "id": "L0T-CdzYfISF",
    "outputId": "8d07aeda-b038-4e75-8865-3f85f9d08c6f"
   },
   "outputs": [
    {
     "data": {
      "text/plain": [
       "Perceptron(alpha=0.0001, class_weight=None, early_stopping=False, eta0=1.0,\n",
       "           fit_intercept=True, max_iter=1000, n_iter_no_change=5, n_jobs=None,\n",
       "           penalty=None, random_state=0, shuffle=True, tol=0.001,\n",
       "           validation_fraction=0.1, verbose=0, warm_start=False)"
      ]
     },
     "execution_count": 55,
     "metadata": {
      "tags": []
     },
     "output_type": "execute_result"
    }
   ],
   "source": [
    "model=Perceptron()\n",
    "model.fit(X_train_vect,y_train_label)"
   ]
  },
  {
   "cell_type": "code",
   "execution_count": 55,
   "metadata": {
    "colab": {},
    "colab_type": "code",
    "executionInfo": {
     "elapsed": 1098,
     "status": "ok",
     "timestamp": 1600541093950,
     "user": {
      "displayName": "sunny",
      "photoUrl": "https://lh3.googleusercontent.com/a-/AOh14GjDGvhwrgQHzGTzm2Q9zSscP5-STzYjbgq990qz=s64",
      "userId": "16372532008308965642"
     },
     "user_tz": -330
    },
    "id": "82Hh7TQLfXm-"
   },
   "outputs": [],
   "source": []
  },
  {
   "cell_type": "code",
   "execution_count": 56,
   "metadata": {
    "colab": {},
    "colab_type": "code",
    "executionInfo": {
     "elapsed": 1135,
     "status": "ok",
     "timestamp": 1600541094452,
     "user": {
      "displayName": "sunny",
      "photoUrl": "https://lh3.googleusercontent.com/a-/AOh14GjDGvhwrgQHzGTzm2Q9zSscP5-STzYjbgq990qz=s64",
      "userId": "16372532008308965642"
     },
     "user_tz": -330
    },
    "id": "HO2ziGX3fkPF"
   },
   "outputs": [],
   "source": [
    "\n",
    "prediction=model.predict(vect.transform(x_test))\n",
    "\n",
    "prediction_train=model.predict(X_train_vect)"
   ]
  },
  {
   "cell_type": "code",
   "execution_count": 57,
   "metadata": {
    "colab": {
     "base_uri": "https://localhost:8080/",
     "height": 34
    },
    "colab_type": "code",
    "executionInfo": {
     "elapsed": 1657,
     "status": "ok",
     "timestamp": 1600541096509,
     "user": {
      "displayName": "sunny",
      "photoUrl": "https://lh3.googleusercontent.com/a-/AOh14GjDGvhwrgQHzGTzm2Q9zSscP5-STzYjbgq990qz=s64",
      "userId": "16372532008308965642"
     },
     "user_tz": -330
    },
    "id": "3EetePfOfkPW",
    "outputId": "a62fe55b-130f-4e84-aa70-8729ad372d4e"
   },
   "outputs": [
    {
     "data": {
      "text/plain": [
       "0.9946402803545661"
      ]
     },
     "execution_count": 57,
     "metadata": {
      "tags": []
     },
     "output_type": "execute_result"
    }
   ],
   "source": [
    "accuracy_score(y_train_label,prediction_train)"
   ]
  },
  {
   "cell_type": "code",
   "execution_count": 58,
   "metadata": {
    "colab": {
     "base_uri": "https://localhost:8080/",
     "height": 34
    },
    "colab_type": "code",
    "executionInfo": {
     "elapsed": 940,
     "status": "ok",
     "timestamp": 1600541096511,
     "user": {
      "displayName": "sunny",
      "photoUrl": "https://lh3.googleusercontent.com/a-/AOh14GjDGvhwrgQHzGTzm2Q9zSscP5-STzYjbgq990qz=s64",
      "userId": "16372532008308965642"
     },
     "user_tz": -330
    },
    "id": "nX9LJxDhfkPk",
    "outputId": "5eb0babb-982b-4fe9-cacc-0459efa5bd7e"
   },
   "outputs": [
    {
     "data": {
      "text/plain": [
       "array([0, 0, 0, ..., 3, 4, 3])"
      ]
     },
     "execution_count": 58,
     "metadata": {
      "tags": []
     },
     "output_type": "execute_result"
    }
   ],
   "source": [
    "prediction_train"
   ]
  },
  {
   "cell_type": "code",
   "execution_count": 59,
   "metadata": {
    "colab": {
     "base_uri": "https://localhost:8080/",
     "height": 34
    },
    "colab_type": "code",
    "executionInfo": {
     "elapsed": 877,
     "status": "ok",
     "timestamp": 1600541096957,
     "user": {
      "displayName": "sunny",
      "photoUrl": "https://lh3.googleusercontent.com/a-/AOh14GjDGvhwrgQHzGTzm2Q9zSscP5-STzYjbgq990qz=s64",
      "userId": "16372532008308965642"
     },
     "user_tz": -330
    },
    "id": "tqFMu4x9fkPu",
    "outputId": "90b3b1e5-87a1-4279-e08d-4ef2806dffb6"
   },
   "outputs": [
    {
     "data": {
      "text/plain": [
       "0.6148148148148148"
      ]
     },
     "execution_count": 59,
     "metadata": {
      "tags": []
     },
     "output_type": "execute_result"
    }
   ],
   "source": [
    "accuracy_score(y_test_label,prediction)"
   ]
  },
  {
   "cell_type": "code",
   "execution_count": 59,
   "metadata": {
    "colab": {},
    "colab_type": "code",
    "executionInfo": {
     "elapsed": 872,
     "status": "ok",
     "timestamp": 1600541097428,
     "user": {
      "displayName": "sunny",
      "photoUrl": "https://lh3.googleusercontent.com/a-/AOh14GjDGvhwrgQHzGTzm2Q9zSscP5-STzYjbgq990qz=s64",
      "userId": "16372532008308965642"
     },
     "user_tz": -330
    },
    "id": "x0dx37d2flIe"
   },
   "outputs": [],
   "source": []
  }
 ],
 "metadata": {
  "colab": {
   "authorship_tag": "ABX9TyNetYXHB5OqC9lnNV93Ic+U",
   "collapsed_sections": [],
   "name": "simple_model_M.ipynb",
   "provenance": []
  },
  "kernelspec": {
   "display_name": "Python 3",
   "language": "python",
   "name": "python3"
  },
  "language_info": {
   "codemirror_mode": {
    "name": "ipython",
    "version": 3
   },
   "file_extension": ".py",
   "mimetype": "text/x-python",
   "name": "python",
   "nbconvert_exporter": "python",
   "pygments_lexer": "ipython3",
   "version": "3.8.5"
  }
 },
 "nbformat": 4,
 "nbformat_minor": 1
}
